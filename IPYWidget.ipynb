{
 "cells": [
  {
   "cell_type": "code",
   "execution_count": 3,
   "id": "94239539",
   "metadata": {},
   "outputs": [],
   "source": [
    "#!pip install ipywidgets"
   ]
  },
  {
   "cell_type": "code",
   "execution_count": 4,
   "id": "fe150ed5",
   "metadata": {},
   "outputs": [],
   "source": [
    "#jupyter nbextension enable --py widgetsnbextension"
   ]
  },
  {
   "cell_type": "code",
   "execution_count": 10,
   "id": "4409f816",
   "metadata": {},
   "outputs": [],
   "source": [
    "import ipywidgets as widgets #Importing widgets"
   ]
  },
  {
   "cell_type": "code",
   "execution_count": 11,
   "id": "0e1ce707",
   "metadata": {},
   "outputs": [],
   "source": [
    "# This code initiates a slider, the min and max parameters set the minimum and the max values, the step set the increament when\n",
    "# the slider is moved it increases by 1 and description set the title and value is where the slider intitiates from \n",
    "slider = widgets.IntSlider( \n",
    "min=0,\n",
    "max=10,\n",
    "step=1,\n",
    "description='slider',\n",
    "value=3)"
   ]
  },
  {
   "cell_type": "code",
   "execution_count": 12,
   "id": "f5fd3141",
   "metadata": {},
   "outputs": [],
   "source": [
    "from IPython.display import display #this helps to display specific slider"
   ]
  },
  {
   "cell_type": "code",
   "execution_count": 13,
   "id": "638e52e3",
   "metadata": {},
   "outputs": [
    {
     "data": {
      "application/vnd.jupyter.widget-view+json": {
       "model_id": "8b5aa07b587a49c1a2249cad4969c25c",
       "version_major": 2,
       "version_minor": 0
      },
      "text/plain": [
       "IntSlider(value=3, description='slider', max=10)"
      ]
     },
     "metadata": {},
     "output_type": "display_data"
    }
   ],
   "source": [
    "display(slider)"
   ]
  },
  {
   "cell_type": "code",
   "execution_count": 14,
   "id": "5f390839",
   "metadata": {},
   "outputs": [
    {
     "data": {
      "text/plain": [
       "3"
      ]
     },
     "execution_count": 14,
     "metadata": {},
     "output_type": "execute_result"
    }
   ],
   "source": [
    "slider.value"
   ]
  },
  {
   "cell_type": "code",
   "execution_count": 15,
   "id": "7b2d1c66",
   "metadata": {},
   "outputs": [
    {
     "data": {
      "application/vnd.jupyter.widget-view+json": {
       "model_id": "8b5aa07b587a49c1a2249cad4969c25c",
       "version_major": 2,
       "version_minor": 0
      },
      "text/plain": [
       "IntSlider(value=3, description='slider', max=10)"
      ]
     },
     "metadata": {},
     "output_type": "display_data"
    },
    {
     "data": {
      "application/vnd.jupyter.widget-view+json": {
       "model_id": "8e24587a3658411193c6601b043156cd",
       "version_major": 2,
       "version_minor": 0
      },
      "text/plain": [
       "IntText(value=0)"
      ]
     },
     "metadata": {},
     "output_type": "display_data"
    },
    {
     "data": {
      "text/plain": [
       "Link(source=(IntSlider(value=3, description='slider', max=10), 'value'), target=(IntText(value=0), 'value'))"
      ]
     },
     "execution_count": 15,
     "metadata": {},
     "output_type": "execute_result"
    }
   ],
   "source": [
    "text = widgets.IntText()\n",
    "display(slider,text)\n",
    "\n",
    "widgets.jslink((slider,'value'),(text,'value'))"
   ]
  },
  {
   "cell_type": "markdown",
   "id": "d82054d2",
   "metadata": {},
   "source": [
    "Check out (ipwidget) for more examples of widgets"
   ]
  },
  {
   "cell_type": "code",
   "execution_count": 29,
   "id": "c8283af9",
   "metadata": {},
   "outputs": [],
   "source": [
    "#print(dir(widgets)) # This gives all the liabraries of widgets."
   ]
  },
  {
   "cell_type": "code",
   "execution_count": 17,
   "id": "e7044d29",
   "metadata": {},
   "outputs": [
    {
     "data": {
      "application/vnd.jupyter.widget-view+json": {
       "model_id": "f07defb60fc04d6eac00e7884e2caa3d",
       "version_major": 2,
       "version_minor": 0
      },
      "text/plain": [
       "Button(description='Stay with me', style=ButtonStyle())"
      ]
     },
     "metadata": {},
     "output_type": "display_data"
    }
   ],
   "source": [
    "btn = widgets.Button(description ='Stay with me')\n",
    "\n",
    "display(btn) \n",
    "\n",
    "def btn_eventhandler(obj):\n",
    "    print('https://www.youtube.com/watch?v=-hJgdaAO28Q'.format(obj.description))\n",
    "btn.on_click(btn_eventhandler)"
   ]
  },
  {
   "cell_type": "code",
   "execution_count": 18,
   "id": "91d269bc",
   "metadata": {},
   "outputs": [
    {
     "data": {
      "application/vnd.jupyter.widget-view+json": {
       "model_id": "9410ab65284a48e58e6a234b92c10c35",
       "version_major": 2,
       "version_minor": 0
      },
      "text/plain": [
       "Button(description='Blessing', style=ButtonStyle())"
      ]
     },
     "metadata": {},
     "output_type": "display_data"
    }
   ],
   "source": [
    "btn = widgets.Button(description ='Blessing')\n",
    "\n",
    "display(btn)  \n",
    "\n",
    "def btn_eventhandler(obj):\n",
    "    print('https://www.youtube.com/watch?v=0cKV8_MKsMw'.format(obj.description))\n",
    "btn.on_click(btn_eventhandler)"
   ]
  },
  {
   "cell_type": "code",
   "execution_count": 19,
   "id": "e0a381d0",
   "metadata": {},
   "outputs": [],
   "source": [
    "import pandas as pd\n",
    "df = pd.read_csv('international-visitors-london-raw.csv', encoding ='unicode_escape')"
   ]
  },
  {
   "cell_type": "code",
   "execution_count": 20,
   "id": "384db13e",
   "metadata": {},
   "outputs": [
    {
     "data": {
      "text/html": [
       "<div>\n",
       "<style scoped>\n",
       "    .dataframe tbody tr th:only-of-type {\n",
       "        vertical-align: middle;\n",
       "    }\n",
       "\n",
       "    .dataframe tbody tr th {\n",
       "        vertical-align: top;\n",
       "    }\n",
       "\n",
       "    .dataframe thead th {\n",
       "        text-align: right;\n",
       "    }\n",
       "</style>\n",
       "<table border=\"1\" class=\"dataframe\">\n",
       "  <thead>\n",
       "    <tr style=\"text-align: right;\">\n",
       "      <th></th>\n",
       "      <th>year</th>\n",
       "      <th>quarter</th>\n",
       "      <th>market</th>\n",
       "      <th>dur_stay</th>\n",
       "      <th>mode</th>\n",
       "      <th>purpose</th>\n",
       "      <th>area</th>\n",
       "      <th>Visits (000s)</th>\n",
       "      <th>Spend (£m)</th>\n",
       "      <th>Nights (000s)</th>\n",
       "      <th>sample</th>\n",
       "    </tr>\n",
       "  </thead>\n",
       "  <tbody>\n",
       "    <tr>\n",
       "      <th>0</th>\n",
       "      <td>2002</td>\n",
       "      <td>January-March</td>\n",
       "      <td>Belgium</td>\n",
       "      <td>1-3  nights</td>\n",
       "      <td>Air</td>\n",
       "      <td>Holiday</td>\n",
       "      <td>LONDON</td>\n",
       "      <td>3.572186</td>\n",
       "      <td>0.969138</td>\n",
       "      <td>6.954456</td>\n",
       "      <td>5</td>\n",
       "    </tr>\n",
       "    <tr>\n",
       "      <th>1</th>\n",
       "      <td>2002</td>\n",
       "      <td>January-March</td>\n",
       "      <td>Belgium</td>\n",
       "      <td>1-3  nights</td>\n",
       "      <td>Air</td>\n",
       "      <td>Business</td>\n",
       "      <td>LONDON</td>\n",
       "      <td>9.284226</td>\n",
       "      <td>2.399577</td>\n",
       "      <td>12.604959</td>\n",
       "      <td>19</td>\n",
       "    </tr>\n",
       "    <tr>\n",
       "      <th>2</th>\n",
       "      <td>2002</td>\n",
       "      <td>January-March</td>\n",
       "      <td>Belgium</td>\n",
       "      <td>1-3  nights</td>\n",
       "      <td>Air</td>\n",
       "      <td>VFR</td>\n",
       "      <td>LONDON</td>\n",
       "      <td>0.877182</td>\n",
       "      <td>0.089833</td>\n",
       "      <td>2.153128</td>\n",
       "      <td>3</td>\n",
       "    </tr>\n",
       "    <tr>\n",
       "      <th>3</th>\n",
       "      <td>2002</td>\n",
       "      <td>January-March</td>\n",
       "      <td>Belgium</td>\n",
       "      <td>1-3  nights</td>\n",
       "      <td>Air</td>\n",
       "      <td>Miscellaneous</td>\n",
       "      <td>LONDON</td>\n",
       "      <td>0.163874</td>\n",
       "      <td>0.010160</td>\n",
       "      <td>0.163874</td>\n",
       "      <td>1</td>\n",
       "    </tr>\n",
       "    <tr>\n",
       "      <th>4</th>\n",
       "      <td>2002</td>\n",
       "      <td>January-March</td>\n",
       "      <td>Belgium</td>\n",
       "      <td>1-3  nights</td>\n",
       "      <td>Sea</td>\n",
       "      <td>Business</td>\n",
       "      <td>LONDON</td>\n",
       "      <td>1.648670</td>\n",
       "      <td>0.016789</td>\n",
       "      <td>1.650300</td>\n",
       "      <td>1</td>\n",
       "    </tr>\n",
       "  </tbody>\n",
       "</table>\n",
       "</div>"
      ],
      "text/plain": [
       "   year        quarter   market     dur_stay mode        purpose     area  \\\n",
       "0  2002  January-March  Belgium  1-3  nights  Air        Holiday   LONDON   \n",
       "1  2002  January-March  Belgium  1-3  nights  Air       Business   LONDON   \n",
       "2  2002  January-March  Belgium  1-3  nights  Air            VFR   LONDON   \n",
       "3  2002  January-March  Belgium  1-3  nights  Air  Miscellaneous   LONDON   \n",
       "4  2002  January-March  Belgium  1-3  nights  Sea       Business   LONDON   \n",
       "\n",
       "   Visits (000s)  Spend (£m)  Nights (000s)  sample  \n",
       "0       3.572186    0.969138       6.954456       5  \n",
       "1       9.284226    2.399577      12.604959      19  \n",
       "2       0.877182    0.089833       2.153128       3  \n",
       "3       0.163874    0.010160       0.163874       1  \n",
       "4       1.648670    0.016789       1.650300       1  "
      ]
     },
     "execution_count": 20,
     "metadata": {},
     "output_type": "execute_result"
    }
   ],
   "source": [
    "df.head()"
   ]
  },
  {
   "cell_type": "code",
   "execution_count": 21,
   "id": "dd2b6047",
   "metadata": {},
   "outputs": [
    {
     "data": {
      "text/plain": [
       "array(['2002', '2003', '2004', '2005', '2006', '2007', '2008', '2009',\n",
       "       '2010', '2011', '2012', '2013', '2014', '2015', '2016', '2017',\n",
       "       '2018', '2019', '2020P'], dtype=object)"
      ]
     },
     "execution_count": 21,
     "metadata": {},
     "output_type": "execute_result"
    }
   ],
   "source": [
    "df['year'].unique()"
   ]
  },
  {
   "cell_type": "code",
   "execution_count": 22,
   "id": "fd3fef54",
   "metadata": {},
   "outputs": [],
   "source": [
    "All = 'All'\n",
    "def unique_sorted_values_plus_All(array):\n",
    "    unique = array.unique().tolist()\n",
    "    unique.sort()\n",
    "    unique.insert(0,All)\n",
    "    return unique"
   ]
  },
  {
   "cell_type": "code",
   "execution_count": 23,
   "id": "f2e32f84",
   "metadata": {},
   "outputs": [],
   "source": [
    "dropdown_year = widgets.Dropdown(options=unique_sorted_values_plus_All(df['year']))"
   ]
  },
  {
   "cell_type": "code",
   "execution_count": 24,
   "id": "3f59ae2b",
   "metadata": {},
   "outputs": [],
   "source": [
    "#output= widgets.Output()\n",
    "def dropdown_year_evethandler(change):\n",
    "        if(change.new==All):\n",
    "            display(df)\n",
    "            print(\"Y\")\n",
    "        else:\n",
    "            display(df[df['year']==change.new])"
   ]
  },
  {
   "cell_type": "code",
   "execution_count": 25,
   "id": "3221bcfc",
   "metadata": {},
   "outputs": [],
   "source": [
    "dropdown_year.observe(dropdown_year_evethandler,names='values')"
   ]
  },
  {
   "cell_type": "code",
   "execution_count": 26,
   "id": "d0dd673a",
   "metadata": {},
   "outputs": [
    {
     "data": {
      "application/vnd.jupyter.widget-view+json": {
       "model_id": "59957a79e2c04daebf465b5cb2b1551f",
       "version_major": 2,
       "version_minor": 0
      },
      "text/plain": [
       "Dropdown(options=('All', '2002', '2003', '2004', '2005', '2006', '2007', '2008', '2009', '2010', '2011', '2012…"
      ]
     },
     "metadata": {},
     "output_type": "display_data"
    }
   ],
   "source": [
    "display(dropdown_year)"
   ]
  },
  {
   "cell_type": "code",
   "execution_count": 31,
   "id": "53aa6e65",
   "metadata": {},
   "outputs": [
    {
     "data": {
      "image/jpeg": "[encoded data removed]",
      "text/html": [
       "\n",
       "        <iframe\n",
       "            width=\"400\"\n",
       "            height=\"300\"\n",
       "            src=\"https://www.youtube.com/embed/1j_HxD4iLn8\"\n",
       "            frameborder=\"0\"\n",
       "            allowfullscreen\n",
       "            \n",
       "        ></iframe>\n",
       "        "
      ],
      "text/plain": [
       "<IPython.lib.display.YouTubeVideo at 0x17802dd2350>"
      ]
     },
     "execution_count": 31,
     "metadata": {},
     "output_type": "execute_result"
    }
   ],
   "source": [
    "from IPython.display import YouTubeVideo\n",
    "\n",
    "# a talk about IPython at Sage Days at U. Washington, Seattle.\n",
    "# Video credit: William Stein.\n",
    "YouTubeVideo('1j_HxD4iLn8')"
   ]
  },
  {
   "cell_type": "code",
   "execution_count": 33,
   "id": "aa39c488",
   "metadata": {},
   "outputs": [
    {
     "data": {
      "image/jpeg": "[encoded data removed]",
      "text/html": [
       "\n",
       "        <iframe\n",
       "            width=\"400\"\n",
       "            height=\"300\"\n",
       "            src=\"https://www.youtube.com/embed/0cKV8_MKsMw\"\n",
       "            frameborder=\"0\"\n",
       "            allowfullscreen\n",
       "            \n",
       "        ></iframe>\n",
       "        "
      ],
      "text/plain": [
       "<IPython.lib.display.YouTubeVideo at 0x178000e3a90>"
      ]
     },
     "execution_count": 33,
     "metadata": {},
     "output_type": "execute_result"
    }
   ],
   "source": [
    "YouTubeVideo('0cKV8_MKsMw')"
   ]
  },
  {
   "cell_type": "code",
   "execution_count": null,
   "id": "f983e5f1",
   "metadata": {},
   "outputs": [],
   "source": []
  }
 ],
 "metadata": {
  "kernelspec": {
   "display_name": "Python 3 (ipykernel)",
   "language": "python",
   "name": "python3"
  },
  "language_info": {
   "codemirror_mode": {
    "name": "ipython",
    "version": 3
   },
   "file_extension": ".py",
   "mimetype": "text/x-python",
   "name": "python",
   "nbconvert_exporter": "python",
   "pygments_lexer": "ipython3",
   "version": "3.11.5"
  }
 },
 "nbformat": 4,
 "nbformat_minor": 5
}
