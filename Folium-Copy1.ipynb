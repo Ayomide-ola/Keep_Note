{
 "cells": [
  {
   "cell_type": "code",
   "execution_count": 27,
   "id": "61bd6699",
   "metadata": {},
   "outputs": [],
   "source": [
    "#!pip install folium"
   ]
  },
  {
   "cell_type": "code",
   "execution_count": 1,
   "id": "0265e181",
   "metadata": {},
   "outputs": [],
   "source": [
    "import numpy as np\n",
    "import pandas as pd\n",
    "import folium\n",
    "import ipywidgets as widgets\n",
    "import matplotlib.pyplot as plt\n",
    "from folium import plugins"
   ]
  },
  {
   "cell_type": "code",
   "execution_count": 2,
   "id": "f0c00973",
   "metadata": {},
   "outputs": [],
   "source": [
    "df = pd.read_csv('SF_crimes.csv')"
   ]
  },
  {
   "cell_type": "code",
   "execution_count": 3,
   "id": "636340fc",
   "metadata": {},
   "outputs": [
    {
     "data": {
      "text/plain": [
       "(150500, 13)"
      ]
     },
     "execution_count": 3,
     "metadata": {},
     "output_type": "execute_result"
    }
   ],
   "source": [
    "df.shape"
   ]
  },
  {
   "cell_type": "code",
   "execution_count": 4,
   "id": "00590f1d",
   "metadata": {
    "scrolled": true
   },
   "outputs": [
    {
     "data": {
      "text/html": [
       "<div>\n",
       "<style scoped>\n",
       "    .dataframe tbody tr th:only-of-type {\n",
       "        vertical-align: middle;\n",
       "    }\n",
       "\n",
       "    .dataframe tbody tr th {\n",
       "        vertical-align: top;\n",
       "    }\n",
       "\n",
       "    .dataframe thead th {\n",
       "        text-align: right;\n",
       "    }\n",
       "</style>\n",
       "<table border=\"1\" class=\"dataframe\">\n",
       "  <thead>\n",
       "    <tr style=\"text-align: right;\">\n",
       "      <th></th>\n",
       "      <th>IncidntNum</th>\n",
       "      <th>Category</th>\n",
       "      <th>Descript</th>\n",
       "      <th>DayOfWeek</th>\n",
       "      <th>Date</th>\n",
       "      <th>Time</th>\n",
       "      <th>PdDistrict</th>\n",
       "      <th>Resolution</th>\n",
       "      <th>Address</th>\n",
       "      <th>X</th>\n",
       "      <th>Y</th>\n",
       "      <th>Location</th>\n",
       "      <th>PdId</th>\n",
       "    </tr>\n",
       "  </thead>\n",
       "  <tbody>\n",
       "    <tr>\n",
       "      <th>0</th>\n",
       "      <td>120058272</td>\n",
       "      <td>WEAPON LAWS</td>\n",
       "      <td>POSS OF PROHIBITED WEAPON</td>\n",
       "      <td>Friday</td>\n",
       "      <td>01/29/2016 12:00:00 AM</td>\n",
       "      <td>11:00</td>\n",
       "      <td>SOUTHERN</td>\n",
       "      <td>ARREST, BOOKED</td>\n",
       "      <td>800 Block of BRYANT ST</td>\n",
       "      <td>-122.403405</td>\n",
       "      <td>37.775421</td>\n",
       "      <td>(37.775420706711, -122.403404791479)</td>\n",
       "      <td>12005827212120</td>\n",
       "    </tr>\n",
       "    <tr>\n",
       "      <th>1</th>\n",
       "      <td>120058272</td>\n",
       "      <td>WEAPON LAWS</td>\n",
       "      <td>FIREARM, LOADED, IN VEHICLE, POSSESSION OR USE</td>\n",
       "      <td>Friday</td>\n",
       "      <td>01/29/2016 12:00:00 AM</td>\n",
       "      <td>11:00</td>\n",
       "      <td>SOUTHERN</td>\n",
       "      <td>ARREST, BOOKED</td>\n",
       "      <td>800 Block of BRYANT ST</td>\n",
       "      <td>-122.403405</td>\n",
       "      <td>37.775421</td>\n",
       "      <td>(37.775420706711, -122.403404791479)</td>\n",
       "      <td>12005827212168</td>\n",
       "    </tr>\n",
       "    <tr>\n",
       "      <th>2</th>\n",
       "      <td>141059263</td>\n",
       "      <td>WARRANTS</td>\n",
       "      <td>WARRANT ARREST</td>\n",
       "      <td>Monday</td>\n",
       "      <td>04/25/2016 12:00:00 AM</td>\n",
       "      <td>14:59</td>\n",
       "      <td>BAYVIEW</td>\n",
       "      <td>ARREST, BOOKED</td>\n",
       "      <td>KEITH ST / SHAFTER AV</td>\n",
       "      <td>-122.388856</td>\n",
       "      <td>37.729981</td>\n",
       "      <td>(37.7299809672996, -122.388856204292)</td>\n",
       "      <td>14105926363010</td>\n",
       "    </tr>\n",
       "    <tr>\n",
       "      <th>3</th>\n",
       "      <td>160013662</td>\n",
       "      <td>NON-CRIMINAL</td>\n",
       "      <td>LOST PROPERTY</td>\n",
       "      <td>Tuesday</td>\n",
       "      <td>01/05/2016 12:00:00 AM</td>\n",
       "      <td>23:50</td>\n",
       "      <td>TENDERLOIN</td>\n",
       "      <td>NONE</td>\n",
       "      <td>JONES ST / OFARRELL ST</td>\n",
       "      <td>-122.412971</td>\n",
       "      <td>37.785788</td>\n",
       "      <td>(37.7857883766888, -122.412970537591)</td>\n",
       "      <td>16001366271000</td>\n",
       "    </tr>\n",
       "    <tr>\n",
       "      <th>4</th>\n",
       "      <td>160002740</td>\n",
       "      <td>NON-CRIMINAL</td>\n",
       "      <td>LOST PROPERTY</td>\n",
       "      <td>Friday</td>\n",
       "      <td>01/01/2016 12:00:00 AM</td>\n",
       "      <td>00:30</td>\n",
       "      <td>MISSION</td>\n",
       "      <td>NONE</td>\n",
       "      <td>16TH ST / MISSION ST</td>\n",
       "      <td>-122.419672</td>\n",
       "      <td>37.765050</td>\n",
       "      <td>(37.7650501214668, -122.419671780296)</td>\n",
       "      <td>16000274071000</td>\n",
       "    </tr>\n",
       "  </tbody>\n",
       "</table>\n",
       "</div>"
      ],
      "text/plain": [
       "   IncidntNum      Category                                        Descript  \\\n",
       "0   120058272   WEAPON LAWS                       POSS OF PROHIBITED WEAPON   \n",
       "1   120058272   WEAPON LAWS  FIREARM, LOADED, IN VEHICLE, POSSESSION OR USE   \n",
       "2   141059263      WARRANTS                                  WARRANT ARREST   \n",
       "3   160013662  NON-CRIMINAL                                   LOST PROPERTY   \n",
       "4   160002740  NON-CRIMINAL                                   LOST PROPERTY   \n",
       "\n",
       "  DayOfWeek                    Date   Time  PdDistrict      Resolution  \\\n",
       "0    Friday  01/29/2016 12:00:00 AM  11:00    SOUTHERN  ARREST, BOOKED   \n",
       "1    Friday  01/29/2016 12:00:00 AM  11:00    SOUTHERN  ARREST, BOOKED   \n",
       "2    Monday  04/25/2016 12:00:00 AM  14:59     BAYVIEW  ARREST, BOOKED   \n",
       "3   Tuesday  01/05/2016 12:00:00 AM  23:50  TENDERLOIN            NONE   \n",
       "4    Friday  01/01/2016 12:00:00 AM  00:30     MISSION            NONE   \n",
       "\n",
       "                  Address           X          Y  \\\n",
       "0  800 Block of BRYANT ST -122.403405  37.775421   \n",
       "1  800 Block of BRYANT ST -122.403405  37.775421   \n",
       "2   KEITH ST / SHAFTER AV -122.388856  37.729981   \n",
       "3  JONES ST / OFARRELL ST -122.412971  37.785788   \n",
       "4    16TH ST / MISSION ST -122.419672  37.765050   \n",
       "\n",
       "                                Location            PdId  \n",
       "0   (37.775420706711, -122.403404791479)  12005827212120  \n",
       "1   (37.775420706711, -122.403404791479)  12005827212168  \n",
       "2  (37.7299809672996, -122.388856204292)  14105926363010  \n",
       "3  (37.7857883766888, -122.412970537591)  16001366271000  \n",
       "4  (37.7650501214668, -122.419671780296)  16000274071000  "
      ]
     },
     "execution_count": 4,
     "metadata": {},
     "output_type": "execute_result"
    }
   ],
   "source": [
    "df.head()"
   ]
  },
  {
   "cell_type": "code",
   "execution_count": 5,
   "id": "58065aa9",
   "metadata": {},
   "outputs": [],
   "source": [
    "limit_case =widgets.IntSlider(\n",
    "    value=1000, min=1, max=5000, step=100, description='Max Cases'\n",
    ")"
   ]
  },
  {
   "cell_type": "raw",
   "id": "976f0f83",
   "metadata": {},
   "source": [
    "# style ={'description'}\n",
    "limit_case = widgets.IntSlider(\n",
    "value = 1000,\n",
    "min = 1,\n",
    "max= 5000,\n",
    "step= 100,\n",
    "description ='Max case Amount')"
   ]
  },
  {
   "cell_type": "code",
   "execution_count": 6,
   "id": "c789e6dd",
   "metadata": {},
   "outputs": [],
   "source": [
    "def update_df_length(limit):\n",
    "    limit=limit_case\n",
    "    df=pd.read_csv('SF_crimes.csv')\n",
    "    df=df.iloc[0:limit,:]\n",
    "    print('Num Rows Loader:'+str(len(df)))"
   ]
  },
  {
   "cell_type": "code",
   "execution_count": 7,
   "id": "a5624db5",
   "metadata": {},
   "outputs": [
    {
     "ename": "SyntaxError",
     "evalue": "invalid syntax. Maybe you meant '==' or ':=' instead of '='? (1871544152.py, line 1)",
     "output_type": "error",
     "traceback": [
      "\u001b[1;36m  Cell \u001b[1;32mIn[7], line 1\u001b[1;36m\u001b[0m\n\u001b[1;33m    widgets.interactive((update_df_length, limit=limit_case))\u001b[0m\n\u001b[1;37m                                           ^\u001b[0m\n\u001b[1;31mSyntaxError\u001b[0m\u001b[1;31m:\u001b[0m invalid syntax. Maybe you meant '==' or ':=' instead of '='?\n"
     ]
    }
   ],
   "source": [
    "widgets.interactive((update_df_length, limit=limit_case))"
   ]
  },
  {
   "cell_type": "code",
   "execution_count": 8,
   "id": "cbf39009",
   "metadata": {},
   "outputs": [
    {
     "data": {
      "text/plain": [
       "array(['SOUTHERN', 'BAYVIEW', 'TENDERLOIN', 'MISSION', 'NORTHERN',\n",
       "       'TARAVAL', 'INGLESIDE', 'CENTRAL', 'RICHMOND', 'PARK', nan],\n",
       "      dtype=object)"
      ]
     },
     "execution_count": 8,
     "metadata": {},
     "output_type": "execute_result"
    }
   ],
   "source": [
    "df.PdDistrict.unique()"
   ]
  },
  {
   "cell_type": "code",
   "execution_count": 9,
   "id": "256bd90a",
   "metadata": {},
   "outputs": [],
   "source": [
    "from ipywidgets import Layout"
   ]
  },
  {
   "cell_type": "code",
   "execution_count": 10,
   "id": "ab55d449",
   "metadata": {},
   "outputs": [],
   "source": [
    "unique_discrict =df.PdDistrict.unique()\n",
    "district = widgets.SelectMultiple(\n",
    "    options=unique_discrict.tolist(),value=['BAYVIEW','TENDERLOIN'],description = 'District',\n",
    "    layout=Layout(width='50%',height='100px', display='flex')\n",
    ")"
   ]
  },
  {
   "cell_type": "code",
   "execution_count": 13,
   "id": "9e409a50",
   "metadata": {},
   "outputs": [
    {
     "data": {
      "application/vnd.jupyter.widget-view+json": {
       "model_id": "1ed8c9651f834b9695c7599fc268edae",
       "version_major": 2,
       "version_minor": 0
      },
      "text/plain": [
       "SelectMultiple(description='District', index=(1, 2), layout=Layout(display='flex', height='100px', width='50%'…"
      ]
     },
     "execution_count": 13,
     "metadata": {},
     "output_type": "execute_result"
    }
   ],
   "source": [
    "district"
   ]
  },
  {
   "cell_type": "code",
   "execution_count": 14,
   "id": "c6695de2",
   "metadata": {},
   "outputs": [],
   "source": [
    "unique_cat =df.Category.unique()\n",
    "category = widgets.SelectMultiple(\n",
    "    options=unique_cat.tolist(),value=['VANDALISM','ASSAULT'],description = 'Category',\n",
    "    layout=Layout(width='50%',height='100px', display='flex')\n",
    ")"
   ]
  },
  {
   "cell_type": "code",
   "execution_count": 15,
   "id": "10fa6a22",
   "metadata": {},
   "outputs": [
    {
     "data": {
      "application/vnd.jupyter.widget-view+json": {
       "model_id": "f7f64e34e4eb43459ee8b250d9f89b64",
       "version_major": 2,
       "version_minor": 0
      },
      "text/plain": [
       "SelectMultiple(description='Category', index=(14, 3), layout=Layout(display='flex', height='100px', width='50%…"
      ]
     },
     "execution_count": 15,
     "metadata": {},
     "output_type": "execute_result"
    }
   ],
   "source": [
    "category"
   ]
  },
  {
   "cell_type": "code",
   "execution_count": 23,
   "id": "787b2059",
   "metadata": {},
   "outputs": [],
   "source": [
    "def update_map(district,category, limit):\n",
    "    df=pd.read_csv('SF_crimes.csv')\n",
    "    df=df.iloc[0:limit,:]\n",
    "    \n",
    "    latitude=37.77\n",
    "    longitude=-122.42\n",
    "    \n",
    "    df_dist=df.loc[df['PdDistrict'].isin(np.array(district))]\n",
    "    df_cat=df_dist.loc[df['Category'].isin(np.array(category))]\n",
    "    \n",
    "    cat_unique =df_cat['Category'].value_counts()\n",
    "    cat_unique = cat_unique.reset_index()\n",
    "    \n",
    "    dist_unique = df_dist['PdDistrict'].value_counts()\n",
    "    dist_unique = dist_unique.reset_index()\n",
    "    \n",
    "    fig = (ax1,ax2) = plt.subplots(1,2,figsize=(20,10))\n",
    "    \n",
    "    sanfran_map = folium.Map(location=[latitude,longitude],zoom_start = 12)\n",
    "    \n",
    "    incidents= plugins.MarkerCluster().add_to(sanfran_map)\n",
    "    \n",
    "    for lat,lng,label in zip(df_cat.Y, df_cat.X, df_cat.Category):\n",
    "        folium.Marker(\n",
    "            location=[lat,lng],icon=None,popup=label\n",
    "        ).add_to(incidents)\n",
    "        \n",
    "    display(sanfran_map)\n",
    "    ax1.bar(cat_unique['index'], cat_unique['Category'])\n",
    "    ax1.set_title('No. of Cases based on Category')\n",
    "    ax2.bar(dist_unique['index'], dist_unique['Category'])\n",
    "    ax1.set_title('No. of Cases based on District')\n",
    "    \n",
    "    plt.show()"
   ]
  },
  {
   "cell_type": "code",
   "execution_count": 24,
   "id": "1dcb9fb8",
   "metadata": {
    "scrolled": true
   },
   "outputs": [
    {
     "data": {
      "application/vnd.jupyter.widget-view+json": {
       "model_id": "bdf9bc2d7e134a90b00bf8cb7d7a6135",
       "version_major": 2,
       "version_minor": 0
      },
      "text/plain": [
       "interactive(children=(SelectMultiple(description='District', index=(1, 2), layout=Layout(display='flex', heigh…"
      ]
     },
     "execution_count": 24,
     "metadata": {},
     "output_type": "execute_result"
    },
    {
     "data": {
      "image/png": "[encoded data removed]",
      "text/plain": [
       "<Figure size 2000x1000 with 2 Axes>"
      ]
     },
     "metadata": {},
     "output_type": "display_data"
    }
   ],
   "source": [
    "widgets.interactive(update_map,district=district, category=category,limit=limit_case)"
   ]
  },
  {
   "cell_type": "code",
   "execution_count": null,
   "id": "a7c961bc",
   "metadata": {},
   "outputs": [],
   "source": []
  }
 ],
 "metadata": {
  "kernelspec": {
   "display_name": "Python 3 (ipykernel)",
   "language": "python",
   "name": "python3"
  },
  "language_info": {
   "codemirror_mode": {
    "name": "ipython",
    "version": 3
   },
   "file_extension": ".py",
   "mimetype": "text/x-python",
   "name": "python",
   "nbconvert_exporter": "python",
   "pygments_lexer": "ipython3",
   "version": "3.11.5"
  }
 },
 "nbformat": 4,
 "nbformat_minor": 5
}
